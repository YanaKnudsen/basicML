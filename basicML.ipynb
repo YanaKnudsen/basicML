{
  "nbformat": 4,
  "nbformat_minor": 0,
  "metadata": {
    "colab": {
      "provenance": [],
      "authorship_tag": "ABX9TyMYECClsMuAenVCdM2g8H2n",
      "include_colab_link": true
    },
    "kernelspec": {
      "name": "python3",
      "display_name": "Python 3"
    },
    "language_info": {
      "name": "python"
    }
  },
  "cells": [
    {
      "cell_type": "markdown",
      "metadata": {
        "id": "view-in-github",
        "colab_type": "text"
      },
      "source": [
        "<a href=\"https://colab.research.google.com/github/YanaKnudsen/basicML/blob/main/basicML.ipynb\" target=\"_parent\"><img src=\"https://colab.research.google.com/assets/colab-badge.svg\" alt=\"Open In Colab\"/></a>"
      ]
    },
    {
      "cell_type": "markdown",
      "source": [
        "# Weather prediction using Polynomial Regression\n"
      ],
      "metadata": {
        "id": "L9gAtmbAvGqW"
      }
    },
    {
      "cell_type": "code",
      "source": [
        "import pandas as pd\n",
        "import matplotlib.pyplot as plt\n",
        "import numpy as np\n",
        "from matplotlib.ticker import (AutoMinorLocator, MultipleLocator)"
      ],
      "metadata": {
        "id": "EYOK-h_AvHmp"
      },
      "execution_count": null,
      "outputs": []
    },
    {
      "cell_type": "code",
      "source": [
        "weather_data=pd.read_csv(\"/content/weatherHistory.csv\")\n",
        "weather_data"
      ],
      "metadata": {
        "id": "_nfNT03gu_9v"
      },
      "execution_count": null,
      "outputs": []
    },
    {
      "cell_type": "code",
      "source": [
        "weather_data.describe()"
      ],
      "metadata": {
        "id": "GsvftI8HvCps"
      },
      "execution_count": null,
      "outputs": []
    },
    {
      "cell_type": "code",
      "source": [
        "weather_features=[\"Temperature (C)\",\"Apparent Temperature (C)\",\"Wind Speed (km/h)\",\"Wind Bearing (degrees)\",\"Visibility (km)\",\"Pressure (millibars)\"]\n",
        "X=weather_data[weather_features]\n",
        "X"
      ],
      "metadata": {
        "id": "EYLZXhsAvEHY"
      },
      "execution_count": null,
      "outputs": []
    },
    {
      "cell_type": "code",
      "source": [
        "Y=weather_data.Humidity\n",
        "Y"
      ],
      "metadata": {
        "id": "hpSrEkz_vFt9"
      },
      "execution_count": null,
      "outputs": []
    },
    {
      "cell_type": "code",
      "source": [
        "ax=plt.subplot(4,2,1)\n",
        "plt.scatter(X[\"Temperature (C)\"],Y,s=0.2)\n",
        "ax.xaxis.set_minor_locator(AutoMinorLocator(10))\n",
        "plt.subplot(4,2,2)\n",
        "plt.scatter(X[\"Apparent Temperature (C)\"],Y,s=0.2)\n",
        "plt.subplot(4,2,3)\n",
        "plt.scatter(X[\"Wind Speed (km/h)\"],Y,s=0.2)\n",
        "plt.subplot(4,2,4)\n",
        "plt.scatter(X[\"Wind Bearing (degrees)\"],Y,s=0.2)\n",
        "plt.subplot(4,2,5)\n",
        "plt.scatter(X[\"Visibility (km)\"],Y,s=0.2)\n",
        "plt.subplot(4,2,6)\n",
        "plt.scatter(X[\"Pressure (millibars)\"],Y,s=0.2)"
      ],
      "metadata": {
        "id": "XBrMiG4mvQOX"
      },
      "execution_count": null,
      "outputs": []
    },
    {
      "cell_type": "code",
      "source": [
        "#preprocessing data\n",
        "from sklearn import preprocessing\n",
        "from sklearn.preprocessing import PolynomialFeatures\n",
        "from sklearn.model_selection import train_test_split"
      ],
      "metadata": {
        "id": "Y9-cb_04vS5N"
      },
      "execution_count": null,
      "outputs": []
    },
    {
      "cell_type": "code",
      "source": [
        "X_scaled=preprocessing.scale(X)\n",
        "poly=PolynomialFeatures(7)\n",
        "X_final=poly.fit_transform(X_scaled)"
      ],
      "metadata": {
        "id": "8TmX44H9vUpr"
      },
      "execution_count": null,
      "outputs": []
    },
    {
      "cell_type": "code",
      "source": [
        "X_train,X_test,y_train,y_test=train_test_split(X_final,Y,test_size=0.10,random_state=42)"
      ],
      "metadata": {
        "id": "oeyypZNMvbXK"
      },
      "execution_count": null,
      "outputs": []
    },
    {
      "cell_type": "code",
      "source": [
        "from sklearn import linear_model\n",
        "regr=linear_model.Ridge(alpha=0.5) #regression with regularization, alpha is a regularization hyperparameter\n",
        "regr.fit(X_train,y_train) #our model\n",
        "y_pred=regr.predict(X_test)\n",
        "y_pred"
      ],
      "metadata": {
        "id": "wH6YdqSdvc2r"
      },
      "execution_count": null,
      "outputs": []
    },
    {
      "cell_type": "code",
      "source": [
        "print(\"Intercept:\",regr.intercept_)\n",
        "print(\"Coefficients:\",regr.coef_)"
      ],
      "metadata": {
        "id": "VvgUmcjFve7v"
      },
      "execution_count": null,
      "outputs": []
    },
    {
      "cell_type": "code",
      "source": [
        "from sklearn.metrics import mean_squared_error,r2_score\n",
        "print(\"mean squared error: %.3f\"% mean_squared_error(y_test,y_pred)) #leave only three digits after point\n",
        "print(\"coefficient of determination: %.3f\"% r2_score(y_test,y_pred))"
      ],
      "metadata": {
        "id": "B87KFbiUvgq9"
      },
      "execution_count": null,
      "outputs": []
    },
    {
      "cell_type": "code",
      "source": [
        "weatherObs=[[32,31.4,44,344,13,1020.33]]\n",
        "weatherObs_scaled=preprocessing.scale(weatherObs)\n",
        "weatherObs_final=poly.fit_transform(weatherObs_scaled)\n",
        "\n",
        "y_pred=regr.predict(weatherObs_final)\n",
        "y_pred"
      ],
      "metadata": {
        "id": "v7cgxASVvu0b"
      },
      "execution_count": null,
      "outputs": []
    },
    {
      "cell_type": "markdown",
      "source": [
        "# Rain forecast usig Logistic Regression"
      ],
      "metadata": {
        "id": "gR7wNXWUv6GR"
      }
    },
    {
      "cell_type": "code",
      "source": [
        "import pandas as pd\n",
        "import matplotlib.pyplot as plt\n",
        "import numpy as np\n",
        "import warnings\n",
        "import scipy\n",
        "from sklearn import preprocessing\n",
        "\n",
        "#ignore all warnings\n",
        "warnings.filterwarnings(\"ignore\")"
      ],
      "metadata": {
        "id": "N4zN8SdLwejK"
      },
      "execution_count": 1,
      "outputs": []
    },
    {
      "cell_type": "code",
      "source": [
        "weather_data=pd.read_csv(\"/content/weatherAUS.csv\")\n",
        "weather_data.head()"
      ],
      "metadata": {
        "id": "xzYc8keIwkWc"
      },
      "execution_count": null,
      "outputs": []
    },
    {
      "cell_type": "code",
      "source": [
        "weather_data.count().sort_values()"
      ],
      "metadata": {
        "id": "L5we_qLAwnBP"
      },
      "execution_count": null,
      "outputs": []
    },
    {
      "cell_type": "code",
      "source": [
        "weather_data=weather_data.drop(columns=[\"Sunshine\",\"Evaporation\",\"Cloud3pm\",\"Cloud9am\",\"RISK_MM\",\"Date\"],axis=1)"
      ],
      "metadata": {
        "id": "HdpkICENwo-z"
      },
      "execution_count": null,
      "outputs": []
    },
    {
      "cell_type": "code",
      "source": [
        "weather_data=weather_data.dropna()"
      ],
      "metadata": {
        "id": "EClbf4eBwqqT"
      },
      "execution_count": null,
      "outputs": []
    },
    {
      "cell_type": "code",
      "source": [
        "numerical=[var for var in weather_data.columns if weather_data[var].dtype==\"float64\"]\n",
        "numerical"
      ],
      "metadata": {
        "id": "honJ-Iqbwt-R"
      },
      "execution_count": null,
      "outputs": []
    },
    {
      "cell_type": "code",
      "source": [
        "for col in numerical:\n",
        "  weather_data[col]=preprocessing.scale(weather_data[col])\n",
        "\n",
        "weather_data.head()"
      ],
      "metadata": {
        "id": "d_oIaMuhwvpY"
      },
      "execution_count": null,
      "outputs": []
    },
    {
      "cell_type": "code",
      "source": [
        "weather_data.shape"
      ],
      "metadata": {
        "id": "KrVo0zP4wxK9"
      },
      "execution_count": null,
      "outputs": []
    },
    {
      "cell_type": "code",
      "source": [
        "z=np.abs(weather_data._get_numeric_data())\n",
        "weather_data=weather_data[(z<3).all(axis=1)]\n",
        "weather_data.shape"
      ],
      "metadata": {
        "id": "pK88pEUIwzYI"
      },
      "execution_count": null,
      "outputs": []
    },
    {
      "cell_type": "code",
      "source": [
        "weather_data['RainToday'].replace({'No':0,'Yes':1},inplace=True)\n",
        "weather_data['RainTomorrow'].replace({'No':0,'Yes':1},inplace=True)"
      ],
      "metadata": {
        "id": "zEXdm4WDw20y"
      },
      "execution_count": null,
      "outputs": []
    },
    {
      "cell_type": "code",
      "source": [
        "categorical=[var for var in weather_data.columns if weather_data[var].dtype==\"object\"]\n",
        "categorical"
      ],
      "metadata": {
        "id": "-KEKWxdPw4Qq"
      },
      "execution_count": null,
      "outputs": []
    },
    {
      "cell_type": "code",
      "source": [
        "categorical_columns=['Location','WindGustDir','WindDir9am','WindDir3pm']\n",
        "\n",
        "for col in categorical_columns:\n",
        "   print(np.unique(weather_data[col]))"
      ],
      "metadata": {
        "id": "brJAE_OWw5ri"
      },
      "execution_count": null,
      "outputs": []
    },
    {
      "cell_type": "code",
      "source": [
        "#applying one hot encoding\n",
        "weather_data=pd.get_dummies(weather_data,columns=categorical_columns)\n",
        "weather_data.head()"
      ],
      "metadata": {
        "id": "W6Jdmd6jw8cW"
      },
      "execution_count": null,
      "outputs": []
    },
    {
      "cell_type": "code",
      "source": [
        "from sklearn.model_selection import train_test_split\n",
        "from sklearn.linear_model import LogisticRegression\n",
        "X=weather_data.loc[:,weather_data.columns!=\"RainTomorrow\"]\n",
        "y=weather_data.RainTomorrow\n",
        "X_train,X_test,y_train,y_test=train_test_split(X,y,test_size=0.25,random_state=42)\n",
        "logreg=LogisticRegression()\n",
        "logreg.fit(X_train,y_train)"
      ],
      "metadata": {
        "id": "sxQDHIcrw-JZ"
      },
      "execution_count": null,
      "outputs": []
    },
    {
      "cell_type": "code",
      "source": [
        "# K-fold cross validation\n",
        "from sklearn.model_selection import KFold\n",
        "from sklearn.model_selection import cross_val_score\n",
        "from numpy import mean\n",
        "cv=KFold(n_splits=10,random_state=1,shuffle=True)\n",
        "\n",
        "scores=cross_val_score(logreg,X,y,scoring=\"accuracy\",cv=cv)\n",
        "average_score=mean(scores)\n",
        "\n",
        "print(\"Overall score:\",average_score)\n"
      ],
      "metadata": {
        "id": "RoMIQmjQxEoE"
      },
      "execution_count": null,
      "outputs": []
    },
    {
      "cell_type": "markdown",
      "source": [
        "# Iris clustering using K-means clustering"
      ],
      "metadata": {
        "id": "RoM0kbMOxWUj"
      }
    },
    {
      "cell_type": "code",
      "source": [
        "import pandas as pd\n",
        "import matplotlib.pyplot as plt\n",
        "import seaborn as sns\n",
        "import numpy as np"
      ],
      "metadata": {
        "id": "zaf5wxv8xWdy"
      },
      "execution_count": 2,
      "outputs": []
    },
    {
      "cell_type": "code",
      "source": [
        "iris_data=pd.read_csv(\"/content/IrisData.csv\")\n",
        "iris_data\n",
        "iris_data.Species.unique()"
      ],
      "metadata": {
        "id": "uqrgIX-MxqzS"
      },
      "execution_count": null,
      "outputs": []
    },
    {
      "cell_type": "code",
      "source": [
        "sns.scatterplot(data=iris_data,x=\"SepalLengthCm\",y=\"PetalWidthCm\",hue=iris_data.Species,palette=\"coolwarm_r\")"
      ],
      "metadata": {
        "id": "o652YXTbxuGO"
      },
      "execution_count": null,
      "outputs": []
    },
    {
      "cell_type": "code",
      "source": [
        "from sklearn.cluster import KMeans"
      ],
      "metadata": {
        "id": "kmRoq8Y8xvzg"
      },
      "execution_count": null,
      "outputs": []
    },
    {
      "cell_type": "code",
      "source": [
        "X=iris_data[[\"SepalLengthCm\",\"PetalWidthCm\"]]\n",
        "km=KMeans(n_clusters=3,n_init=3,init=\"random\",random_state=42)\n",
        "km.fit(X)\n",
        "y_kmeans=km.predict(X)\n",
        "y_kmeans"
      ],
      "metadata": {
        "id": "k0uPGwA2xw4G"
      },
      "execution_count": null,
      "outputs": []
    },
    {
      "cell_type": "code",
      "source": [
        "sns.scatterplot(data=iris_data,x=\"SepalLengthCm\",y=\"PetalWidthCm\",hue=y_kmeans,palette=\"coolwarm_r\")\n",
        "\n",
        "centers=km.cluster_centers_\n",
        "\n",
        "plt.scatter(centers[:,0],centers[:,1],c='black',alpha=0.6)"
      ],
      "metadata": {
        "id": "oDPOBMaIxzfe"
      },
      "execution_count": null,
      "outputs": []
    },
    {
      "cell_type": "markdown",
      "source": [
        "0:Iris-versicolor\n",
        "1:Iris-setosa\n",
        "2:Iris-virginica"
      ],
      "metadata": {
        "id": "LaagmotQyHTN"
      }
    },
    {
      "cell_type": "code",
      "source": [
        "km.inertia_"
      ],
      "metadata": {
        "id": "T_3jF5Ayx3Jq"
      },
      "execution_count": null,
      "outputs": []
    },
    {
      "cell_type": "code",
      "source": [
        "newData=[[4.7,0.8]]\n",
        "y_pred=km.predict(newData)\n",
        "y_pred"
      ],
      "metadata": {
        "id": "efsA_hS3x5gI"
      },
      "execution_count": null,
      "outputs": []
    },
    {
      "cell_type": "code",
      "source": [
        "sns.scatterplot(data=iris_data,x=\"SepalLengthCm\",y=\"PetalWidthCm\")"
      ],
      "metadata": {
        "id": "cHfsR729x71S"
      },
      "execution_count": null,
      "outputs": []
    },
    {
      "cell_type": "code",
      "source": [
        "inertia=[]\n",
        "K=range(1,15)\n",
        "for k in K:\n",
        "  km=KMeans(n_clusters=k)\n",
        "  km=km.fit(X)\n",
        "  inertia.append(km.inertia_)\n",
        "\n",
        "plt.plot(K,inertia,marker=\"x\")\n",
        "plt.xlabel('k')\n",
        "plt.ylabel('Inertia')\n",
        "plt.title('Elbow method')\n",
        "plt.show()\n",
        "#number of clusters is 3"
      ],
      "metadata": {
        "id": "jxcMgCT3x-kT"
      },
      "execution_count": null,
      "outputs": []
    },
    {
      "cell_type": "markdown",
      "source": [
        "# SVM for pulsar classification"
      ],
      "metadata": {
        "id": "eMcDbHIEyvPp"
      }
    },
    {
      "cell_type": "code",
      "source": [
        "import pandas as pd\n",
        "import warnings\n",
        "import numpy as np\n",
        "\n",
        "warnings.filterwarnings(\"ignore\")\n",
        "star_data=pd.read_csv(\"/content/pulsar_data.csv\")\n",
        "star_data.head()"
      ],
      "metadata": {
        "id": "EcCr0UD0y0NQ"
      },
      "execution_count": null,
      "outputs": []
    },
    {
      "cell_type": "code",
      "source": [
        "star_data.dropna(inplace=True)\n",
        "star_data.isnull().sum()"
      ],
      "metadata": {
        "id": "bFhTVkp_y34-"
      },
      "execution_count": null,
      "outputs": []
    },
    {
      "cell_type": "code",
      "source": [
        "star_data.dtypes"
      ],
      "metadata": {
        "id": "I63Vck-Qy8XG"
      },
      "execution_count": null,
      "outputs": []
    },
    {
      "cell_type": "code",
      "source": [
        "star_data.columns=star_data.columns.str.strip()\n",
        "\n",
        "star_data.columns"
      ],
      "metadata": {
        "id": "4pVHsCOXy-31"
      },
      "execution_count": null,
      "outputs": []
    },
    {
      "cell_type": "code",
      "source": [
        "X=star_data.drop('target_class',1)\n",
        "y=star_data['target_class']"
      ],
      "metadata": {
        "id": "oofizm6zzAPZ"
      },
      "execution_count": null,
      "outputs": []
    },
    {
      "cell_type": "code",
      "source": [
        "#scale data\n",
        "from sklearn.preprocessing import StandardScaler\n",
        "\n",
        "s_scaler=StandardScaler()\n",
        "X_sc=pd.DataFrame(s_scaler.fit_transform(X),columns=X.columns)"
      ],
      "metadata": {
        "id": "dOkmMifXzBfn"
      },
      "execution_count": null,
      "outputs": []
    },
    {
      "cell_type": "code",
      "source": [
        "from sklearn.model_selection import train_test_split\n",
        "X_train,X_test,y_train,y_test=train_test_split(X_sc,y,test_size=0.25,random_state=42)"
      ],
      "metadata": {
        "id": "sHBbGxXazD1I"
      },
      "execution_count": null,
      "outputs": []
    },
    {
      "cell_type": "code",
      "source": [
        "from sklearn import svm\n",
        "\n",
        "clf_linear=svm.SVC(kernel='linear',C=10)\n",
        "clf_linear.fit(X_train,y_train)\n",
        "#evaluating results\n",
        "from sklearn.metrics import f1_score\n",
        "\n",
        "y_pred=clf_linear.predict(X_test)\n",
        "f1_score(y_test,y_pred)\n",
        "\n",
        "#nonlinear svm\n",
        "clf_rbf=svm.SVC(kernel='rbf',C=10)\n",
        "clf_rbf.fit(X_train,y_train)\n",
        "y_pred_rbf=clf_rbf.predict(X_test)\n",
        "f1_score(y_test,y_pred_rbf)"
      ],
      "metadata": {
        "id": "jdMI3RYezFF4"
      },
      "execution_count": null,
      "outputs": []
    },
    {
      "cell_type": "markdown",
      "source": [
        "# Agglomerative Hierarchical Clustering"
      ],
      "metadata": {
        "id": "D16kOOvLzonG"
      }
    },
    {
      "cell_type": "code",
      "source": [
        "iris_data=pd.read_csv(\"/content/IrisData.csv\")\n",
        "iris_data.head()"
      ],
      "metadata": {
        "id": "IOz0wlWmzpnP"
      },
      "execution_count": null,
      "outputs": []
    },
    {
      "cell_type": "code",
      "source": [
        "X=iris_data[[\"SepalLengthCm\",\"PetalLengthCm\",\"PetalWidthCm\"]]\n",
        "X.shape"
      ],
      "metadata": {
        "id": "EnBmQIhtzvEg"
      },
      "execution_count": null,
      "outputs": []
    },
    {
      "cell_type": "code",
      "source": [
        "from matplotlib import pyplot as plt\n",
        "from mpl_toolkits.mplot3d import Axes3D\n",
        "import matplotlib.patches as mpatches\n",
        "fig=plt.figure(figsize=(5,5))\n",
        "ax=fig.add_subplot(111,projection=\"3d\")\n",
        "\n",
        "#variables\n",
        "x=X.iloc[:,0]\n",
        "y=X.iloc[:,1]\n",
        "z=X.iloc[:,2]\n",
        "# color-code species\n",
        "colors = {'Iris-setosa':'orange', 'Iris-versicolor':'grey', 'Iris-virginica':'lightblue'}\n",
        "#legend\n",
        "orange_patch=mpatches.Patch(color='orange',label='Iris-setosa')\n",
        "grey_patch=mpatches.Patch(color='grey',label='Iris-versicolor')\n",
        "lightblue_patch=mpatches.Patch(color='lightblue',label='Iris-virginica')\n",
        "ax.legend(handles=[orange_patch,grey_patch,lightblue_patch])\n",
        "\n",
        "plt.title(\"Iris plants\")\n",
        "\n",
        "ax.scatter(x,y,z,s=40,c=iris_data[\"Species\"].map(colors),marker='o',alpha=1)\n",
        "ax.set_xlabel(\"SepalLengthCm\")\n",
        "ax.set_ylabel(\"PetalLengthCm\")\n",
        "ax.set_zlabel(\"PetalWidthCm\")"
      ],
      "metadata": {
        "id": "yajBYFdzzwF1"
      },
      "execution_count": null,
      "outputs": []
    },
    {
      "cell_type": "code",
      "source": [
        "from sklearn.cluster import AgglomerativeClustering\n",
        "hc=AgglomerativeClustering(n_clusters=3,linkage=\"ward\")\n",
        "hc=hc.fit(X)\n",
        "hc.labels_"
      ],
      "metadata": {
        "id": "jWCvhKlGz2Ju"
      },
      "execution_count": null,
      "outputs": []
    },
    {
      "cell_type": "code",
      "source": [
        "from matplotlib.colors import ListedColormap\n",
        "fig=plt.figure(figsize=(5,5))\n",
        "ax=fig.add_subplot(111,projection=\"3d\")\n",
        "\n",
        "cmap=ListedColormap([\"orangered\",\"lightgreen\",\"deepskyblue\"])\n",
        "\n",
        "\n",
        "#variables\n",
        "x=X.iloc[:,0]\n",
        "y=X.iloc[:,1]\n",
        "z=X.iloc[:,2]\n",
        "sc=ax.scatter(x,y,z,s=40,c=hc.labels_,cmap=cmap,marker='o',alpha=1)\n",
        "plt.legend(*sc.legend_elements())\n",
        "plt.title(\"Hierarchical Clustering\")\n",
        "\n",
        "ax.set_xlabel(\"SepalLengthCm\")\n",
        "ax.set_ylabel(\"PetalLengthCm\")\n",
        "ax.set_zlabel(\"PetalWidthCm\")"
      ],
      "metadata": {
        "id": "5dyJ-mLwz5mE"
      },
      "execution_count": null,
      "outputs": []
    },
    {
      "cell_type": "code",
      "source": [
        "from scipy.cluster.hierarchy import dendrogram,linkage"
      ],
      "metadata": {
        "id": "5TMwn-M4z7ox"
      },
      "execution_count": null,
      "outputs": []
    },
    {
      "cell_type": "code",
      "source": [
        "#define linkage\n",
        "linkage=linkage(X.sample(n=20,random_state=1),'ward')\n",
        "#we produce only for 20 datapoint because it will be difficult to read if we produce for all\n",
        "\n",
        "plt.figure(figsize=(7,5))\n",
        "\n",
        "dendrogram(linkage,orientation='top')\n",
        "plt.title(\"Dendrogram\")\n",
        "plt.ylabel(\"Dissimalirty\")\n",
        "plt.xlabel(\"Data point\")"
      ],
      "metadata": {
        "id": "S8P8Td9qz9D4"
      },
      "execution_count": null,
      "outputs": []
    }
  ]
}